{
 "cells": [
  {
   "cell_type": "code",
   "execution_count": 16,
   "metadata": {},
   "outputs": [
    {
     "name": "stdout",
     "output_type": "stream",
     "text": [
      "1 2 1 1 0 "
     ]
    }
   ],
   "source": [
    "n,m = list(map(int, input().split()))\n",
    "l = []\n",
    "for i in range(n+1):\n",
    "    l.append(0)\n",
    "\n",
    "for p in range(m):\n",
    "    i, j, k = list(map(int, input().split()))\n",
    "    for idx in range(i,j+1):\n",
    "        l[idx] = k\n",
    "for i in l[1:]:\n",
    "    print(i, end = \" \")\n",
    "    \n",
    "\n",
    "\n",
    "\n",
    "\n"
   ]
  }
 ],
 "metadata": {
  "kernelspec": {
   "display_name": "Python 3",
   "language": "python",
   "name": "python3"
  },
  "language_info": {
   "codemirror_mode": {
    "name": "ipython",
    "version": 3
   },
   "file_extension": ".py",
   "mimetype": "text/x-python",
   "name": "python",
   "nbconvert_exporter": "python",
   "pygments_lexer": "ipython3",
   "version": "3.10.4"
  },
  "orig_nbformat": 4
 },
 "nbformat": 4,
 "nbformat_minor": 2
}
